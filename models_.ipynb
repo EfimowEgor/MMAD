{
 "cells": [
  {
   "cell_type": "code",
   "execution_count": 94,
   "metadata": {},
   "outputs": [],
   "source": [
    "import pandas as pd\n",
    "import numpy as np\n",
    "from sklearn.preprocessing import StandardScaler\n",
    "from sklearn.neighbors import KNeighborsClassifier\n",
    "from sklearn.linear_model import LogisticRegression\n",
    "from sklearn.metrics import accuracy_score\n",
    "from sklearn.metrics import classification_report\n",
    "from sklearn.metrics import confusion_matrix\n",
    "from sklearn.model_selection import train_test_split\n",
    "from sklearn.datasets import load_iris "
   ]
  },
  {
   "cell_type": "code",
   "execution_count": 95,
   "metadata": {},
   "outputs": [
    {
     "name": "stdout",
     "output_type": "stream",
     "text": [
      "      Unnamed: 0  trustLevel  totalScanTimeInSeconds  grandTotal  \\\n",
      "0          376.0         1.0                  1679.0       62.67   \n",
      "1          377.0         5.0                   337.0        9.35   \n",
      "2          378.0         4.0                   661.0       88.58   \n",
      "3          379.0         1.0                   521.0       89.61   \n",
      "4          380.0         3.0                  1072.0       89.13   \n",
      "...          ...         ...                     ...         ...   \n",
      "1499      1875.0         1.0                   321.0       76.03   \n",
      "1500      1876.0         1.0                   397.0       41.89   \n",
      "1501      1877.0         4.0                   316.0       41.83   \n",
      "1502      1878.0         2.0                   685.0       62.68   \n",
      "1503      1879.0         4.0                  1140.0       38.03   \n",
      "\n",
      "      lineItemVoids  scansWithoutRegistration  quantityModifications  \\\n",
      "0               0.0                       2.0                    4.0   \n",
      "1               3.0                       7.0                    3.0   \n",
      "2               4.0                       4.0                    1.0   \n",
      "3               1.0                       0.0                    1.0   \n",
      "4               0.0                       3.0                    1.0   \n",
      "...             ...                       ...                    ...   \n",
      "1499            8.0                       7.0                    2.0   \n",
      "1500            5.0                       5.0                    0.0   \n",
      "1501            5.0                       8.0                    1.0   \n",
      "1502            1.0                       6.0                    2.0   \n",
      "1503            2.0                       2.0                    3.0   \n",
      "\n",
      "      scannedLineItemsPerSecond  valuePerSecond  lineItemVoidsPerPosition  \\\n",
      "0                      0.016677        0.037326                  0.000000   \n",
      "1                      0.047478        0.027745                  0.187500   \n",
      "2                      0.030257        0.134009                  0.200000   \n",
      "3                      0.055662        0.171996                  0.034483   \n",
      "4                      0.004664        0.083144                  0.000000   \n",
      "...                         ...             ...                       ...   \n",
      "1499                   0.071651        0.236854                  0.347826   \n",
      "1500                   0.065491        0.105516                  0.192308   \n",
      "1501                   0.094937        0.132373                  0.166667   \n",
      "1502                   0.035036        0.091504                  0.041667   \n",
      "1503                   0.016667        0.033360                  0.105263   \n",
      "\n",
      "      fraud  \n",
      "0       1.0  \n",
      "1       0.0  \n",
      "2       0.0  \n",
      "3       0.0  \n",
      "4       0.0  \n",
      "...     ...  \n",
      "1499    0.0  \n",
      "1500    1.0  \n",
      "1501    0.0  \n",
      "1502    0.0  \n",
      "1503    0.0  \n",
      "\n",
      "[1504 rows x 11 columns]\n"
     ]
    }
   ],
   "source": [
    "train = pd.read_csv('train_2.csv', dtype=float)\n",
    "print(train)"
   ]
  },
  {
   "cell_type": "code",
   "execution_count": 96,
   "metadata": {},
   "outputs": [],
   "source": [
    "X = train[['trustLevel','totalScanTimeInSeconds', 'grandTotal', 'lineItemVoids', 'quantityModifications']]\n",
    "y = train['fraud']\n",
    "X_train,X_test,y_train,y_test = train_test_split (X,y,test_size=0.3,random_state=0) \n"
   ]
  },
  {
   "cell_type": "code",
   "execution_count": 97,
   "metadata": {},
   "outputs": [
    {
     "name": "stderr",
     "output_type": "stream",
     "text": [
      "c:\\Users\\nate_higgers\\AppData\\Local\\Programs\\Python\\Python311\\Lib\\site-packages\\sklearn\\linear_model\\_logistic.py:458: ConvergenceWarning: lbfgs failed to converge (status=1):\n",
      "STOP: TOTAL NO. of ITERATIONS REACHED LIMIT.\n",
      "\n",
      "Increase the number of iterations (max_iter) or scale the data as shown in:\n",
      "    https://scikit-learn.org/stable/modules/preprocessing.html\n",
      "Please also refer to the documentation for alternative solver options:\n",
      "    https://scikit-learn.org/stable/modules/linear_model.html#logistic-regression\n",
      "  n_iter_i = _check_optimize_result(\n"
     ]
    }
   ],
   "source": [
    "log_regression = LogisticRegression()\n",
    "\n",
    "#fit the model using the training data\n",
    "log_regression. fit (X_train,y_train)\n",
    "\n",
    "#use model to make predictions on test data\n",
    "y_pred = log_regression. predict (X_test)"
   ]
  },
  {
   "cell_type": "code",
   "execution_count": 101,
   "metadata": {},
   "outputs": [
    {
     "name": "stdout",
     "output_type": "stream",
     "text": [
      "[[416   3]\n",
      " [ 29   4]]\n"
     ]
    }
   ],
   "source": [
    "cnf_matrix = confusion_matrix (y_test, y_pred)\n",
    "print(cnf_matrix)"
   ]
  },
  {
   "cell_type": "code",
   "execution_count": 99,
   "metadata": {},
   "outputs": [
    {
     "name": "stdout",
     "output_type": "stream",
     "text": [
      " Accuracy: 0.9292035398230089\n"
     ]
    }
   ],
   "source": [
    "print(\" Accuracy:\",accuracy_score (y_test, y_pred))"
   ]
  },
  {
   "cell_type": "code",
   "execution_count": null,
   "metadata": {},
   "outputs": [],
   "source": [
    "scaler = StandardScaler()\n",
    "scaler.fit(train.drop('fraud', axis=1))\n",
    "scaled_features = scaler.transform(train.drop('fraud', axis=1))\n",
    "scaled_data = pd.DataFrame(scaled_features, columns = train.drop('fraud', axis=1).columns)\n",
    "x = scaled_data\n",
    "y = train['fraud']\n",
    "x_training_data, x_test_data, y_training_data, y_test_data = train_test_split(x, y, test_size = 0.3)\n",
    "model = KNeighborsClassifier(n_neighbors = 1)\n",
    "model.fit(x_training_data, y_training_data)\n",
    "predictions = model.predict(x_test_data)"
   ]
  }
 ],
 "metadata": {
  "kernelspec": {
   "display_name": "Python 3",
   "language": "python",
   "name": "python3"
  },
  "language_info": {
   "codemirror_mode": {
    "name": "ipython",
    "version": 3
   },
   "file_extension": ".py",
   "mimetype": "text/x-python",
   "name": "python",
   "nbconvert_exporter": "python",
   "pygments_lexer": "ipython3",
   "version": "3.11.1"
  },
  "orig_nbformat": 4
 },
 "nbformat": 4,
 "nbformat_minor": 2
}
